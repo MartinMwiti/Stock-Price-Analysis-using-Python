{
 "cells": [
  {
   "cell_type": "code",
   "execution_count": 1,
   "metadata": {},
   "outputs": [],
   "source": [
    "#import needed libraries\n",
    "import numpy as np #Linear_Algebra\n",
    "import matplotlib.pyplot as plt\n",
    "import pandas as pd #Data_Processing\n",
    "import pandas_datareader as pdr\n",
    "from scipy import stats\n",
    "%matplotlib inline"
   ]
  },
  {
   "cell_type": "code",
   "execution_count": 2,
   "metadata": {},
   "outputs": [],
   "source": [
    "#Import Yahoo Finance\n",
    "import yfinance as yf"
   ]
  },
  {
   "cell_type": "raw",
   "metadata": {},
   "source": [
    "#Fixing Yahoo finance deprecated problem.\n",
    "$ pip install yfinance --upgrade "
   ]
  },
  {
   "cell_type": "code",
   "execution_count": 3,
   "metadata": {},
   "outputs": [],
   "source": [
    "yf.pdr_override()"
   ]
  },
  {
   "cell_type": "code",
   "execution_count": 4,
   "metadata": {},
   "outputs": [],
   "source": [
    "#Download NVIDIA stock price data for the past 10 yrs to date\n",
    "nvda = pdr.get_data_yahoo('NVDA', start = '2009-06-19', end = '2019-06-19')"
   ]
  },
  {
   "cell_type": "code",
   "execution_count": 5,
   "metadata": {},
   "outputs": [
    {
     "data": {
      "text/html": [
       "<div>\n",
       "<style scoped>\n",
       "    .dataframe tbody tr th:only-of-type {\n",
       "        vertical-align: middle;\n",
       "    }\n",
       "\n",
       "    .dataframe tbody tr th {\n",
       "        vertical-align: top;\n",
       "    }\n",
       "\n",
       "    .dataframe thead th {\n",
       "        text-align: right;\n",
       "    }\n",
       "</style>\n",
       "<table border=\"1\" class=\"dataframe\">\n",
       "  <thead>\n",
       "    <tr style=\"text-align: right;\">\n",
       "      <th></th>\n",
       "      <th>High</th>\n",
       "      <th>Low</th>\n",
       "      <th>Open</th>\n",
       "      <th>Close</th>\n",
       "      <th>Volume</th>\n",
       "      <th>Adj Close</th>\n",
       "    </tr>\n",
       "    <tr>\n",
       "      <th>Date</th>\n",
       "      <th></th>\n",
       "      <th></th>\n",
       "      <th></th>\n",
       "      <th></th>\n",
       "      <th></th>\n",
       "      <th></th>\n",
       "    </tr>\n",
       "  </thead>\n",
       "  <tbody>\n",
       "    <tr>\n",
       "      <th>2009-06-19</th>\n",
       "      <td>11.46</td>\n",
       "      <td>11.03</td>\n",
       "      <td>11.17</td>\n",
       "      <td>11.18</td>\n",
       "      <td>18689100.0</td>\n",
       "      <td>10.314499</td>\n",
       "    </tr>\n",
       "    <tr>\n",
       "      <th>2009-06-22</th>\n",
       "      <td>11.22</td>\n",
       "      <td>10.51</td>\n",
       "      <td>11.22</td>\n",
       "      <td>10.55</td>\n",
       "      <td>14371600.0</td>\n",
       "      <td>9.733273</td>\n",
       "    </tr>\n",
       "    <tr>\n",
       "      <th>2009-06-23</th>\n",
       "      <td>10.67</td>\n",
       "      <td>10.09</td>\n",
       "      <td>10.65</td>\n",
       "      <td>10.50</td>\n",
       "      <td>14744100.0</td>\n",
       "      <td>9.687141</td>\n",
       "    </tr>\n",
       "    <tr>\n",
       "      <th>2009-06-24</th>\n",
       "      <td>11.10</td>\n",
       "      <td>10.63</td>\n",
       "      <td>10.63</td>\n",
       "      <td>10.85</td>\n",
       "      <td>12877400.0</td>\n",
       "      <td>10.010050</td>\n",
       "    </tr>\n",
       "    <tr>\n",
       "      <th>2009-06-25</th>\n",
       "      <td>11.44</td>\n",
       "      <td>10.64</td>\n",
       "      <td>10.75</td>\n",
       "      <td>11.42</td>\n",
       "      <td>21761100.0</td>\n",
       "      <td>10.535919</td>\n",
       "    </tr>\n",
       "    <tr>\n",
       "      <th>2009-06-26</th>\n",
       "      <td>11.61</td>\n",
       "      <td>11.27</td>\n",
       "      <td>11.37</td>\n",
       "      <td>11.57</td>\n",
       "      <td>12848900.0</td>\n",
       "      <td>10.674309</td>\n",
       "    </tr>\n",
       "    <tr>\n",
       "      <th>2009-06-29</th>\n",
       "      <td>11.78</td>\n",
       "      <td>11.45</td>\n",
       "      <td>11.60</td>\n",
       "      <td>11.57</td>\n",
       "      <td>12751400.0</td>\n",
       "      <td>10.674309</td>\n",
       "    </tr>\n",
       "    <tr>\n",
       "      <th>2009-06-30</th>\n",
       "      <td>11.69</td>\n",
       "      <td>11.08</td>\n",
       "      <td>11.53</td>\n",
       "      <td>11.29</td>\n",
       "      <td>14746100.0</td>\n",
       "      <td>10.415985</td>\n",
       "    </tr>\n",
       "    <tr>\n",
       "      <th>2009-07-01</th>\n",
       "      <td>11.49</td>\n",
       "      <td>11.15</td>\n",
       "      <td>11.36</td>\n",
       "      <td>11.34</td>\n",
       "      <td>17410500.0</td>\n",
       "      <td>10.462115</td>\n",
       "    </tr>\n",
       "    <tr>\n",
       "      <th>2009-07-02</th>\n",
       "      <td>11.11</td>\n",
       "      <td>10.75</td>\n",
       "      <td>10.97</td>\n",
       "      <td>10.90</td>\n",
       "      <td>13807800.0</td>\n",
       "      <td>10.056177</td>\n",
       "    </tr>\n",
       "  </tbody>\n",
       "</table>\n",
       "</div>"
      ],
      "text/plain": [
       "             High    Low   Open  Close      Volume  Adj Close\n",
       "Date                                                         \n",
       "2009-06-19  11.46  11.03  11.17  11.18  18689100.0  10.314499\n",
       "2009-06-22  11.22  10.51  11.22  10.55  14371600.0   9.733273\n",
       "2009-06-23  10.67  10.09  10.65  10.50  14744100.0   9.687141\n",
       "2009-06-24  11.10  10.63  10.63  10.85  12877400.0  10.010050\n",
       "2009-06-25  11.44  10.64  10.75  11.42  21761100.0  10.535919\n",
       "2009-06-26  11.61  11.27  11.37  11.57  12848900.0  10.674309\n",
       "2009-06-29  11.78  11.45  11.60  11.57  12751400.0  10.674309\n",
       "2009-06-30  11.69  11.08  11.53  11.29  14746100.0  10.415985\n",
       "2009-07-01  11.49  11.15  11.36  11.34  17410500.0  10.462115\n",
       "2009-07-02  11.11  10.75  10.97  10.90  13807800.0  10.056177"
      ]
     },
     "execution_count": 5,
     "metadata": {},
     "output_type": "execute_result"
    }
   ],
   "source": [
    "nvda.head(10)"
   ]
  },
  {
   "cell_type": "code",
   "execution_count": 6,
   "metadata": {
    "scrolled": true
   },
   "outputs": [
    {
     "data": {
      "text/plain": [
       "Date\n",
       "2009-06-19    11.18\n",
       "2009-06-22    10.55\n",
       "2009-06-23    10.50\n",
       "2009-06-24    10.85\n",
       "2009-06-25    11.42\n",
       "Name: Close, dtype: float64"
      ]
     },
     "execution_count": 6,
     "metadata": {},
     "output_type": "execute_result"
    }
   ],
   "source": [
    "#Getting the close prices\n",
    "nvda_close = nvda.Close\n",
    "nvda_close.head()"
   ]
  },
  {
   "cell_type": "code",
   "execution_count": 7,
   "metadata": {},
   "outputs": [
    {
     "data": {
      "text/plain": [
       "Date\n",
       "2009-06-19         NaN\n",
       "2009-06-22   -5.800062\n",
       "2009-06-23   -0.475062\n",
       "2009-06-24    3.278986\n",
       "2009-06-25    5.120110\n",
       "Name: Close, dtype: float64"
      ]
     },
     "execution_count": 7,
     "metadata": {},
     "output_type": "execute_result"
    }
   ],
   "source": [
    "#Finding log returns by changing the close-close price change\n",
    "ndva_percent_change = np.log(nvda_close / nvda_close.shift(1)) *100\n",
    "ndva_percent_change.head()"
   ]
  },
  {
   "cell_type": "code",
   "execution_count": 8,
   "metadata": {},
   "outputs": [
    {
     "data": {
      "text/plain": [
       "(array([8.48200023e-05, 3.39280009e-04, 1.78122005e-03, 2.90084408e-02,\n",
       "        1.58952684e-01, 2.12898206e-02, 1.35712004e-03, 5.08920014e-04,\n",
       "        0.00000000e+00, 8.48200023e-05]),\n",
       " array([-20.77116229, -16.08528314, -11.399404  ,  -6.71352486,\n",
       "         -2.02764571,   2.65823343,   7.34411258,  12.02999172,\n",
       "         16.71587086,  21.40175001,  26.08762915]),\n",
       " <a list of 10 Patch objects>)"
      ]
     },
     "execution_count": 8,
     "metadata": {},
     "output_type": "execute_result"
    },
    {
     "data": {
      "image/png": "[encoded data removed]",
      "text/plain": [
       "<Figure size 432x288 with 1 Axes>"
      ]
     },
     "metadata": {
      "needs_background": "light"
     },
     "output_type": "display_data"
    }
   ],
   "source": [
    "#Check for normality in the log returns\n",
    "plt.hist(ndva_percent_change[1:], density= True)"
   ]
  },
  {
   "cell_type": "code",
   "execution_count": 9,
   "metadata": {},
   "outputs": [
    {
     "data": {
      "text/plain": [
       "DescribeResult(nobs=2516, minmax=(-20.771162287934118, 26.087629152713237), mean=0.10401810019047365, variance=6.604592778144348, skewness=0.3159232023328025, kurtosis=9.541845187334204)"
      ]
     },
     "execution_count": 9,
     "metadata": {},
     "output_type": "execute_result"
    }
   ],
   "source": [
    "#Using Scipy to get more info like skweness, Kurtosis\n",
    "stats.describe(ndva_percent_change[1:])"
   ]
  },
  {
   "cell_type": "markdown",
   "metadata": {},
   "source": [
    "--For investors, the high kurtosis of the return distribution(9.54) implies that the investor will experience occasional extreme returns (either positive or negative), more extreme than the usual + or - three standard deviations from the mean that is predicted by the normal distribution of returns. This phenomenon is known as kurtosis risk."
   ]
  },
  {
   "cell_type": "markdown",
   "metadata": {},
   "source": [
    "--The kurtosis isn't close to 0, so a normal distribution for the returns is not assumed"
   ]
  },
  {
   "cell_type": "code",
   "execution_count": 10,
   "metadata": {},
   "outputs": [
    {
     "name": "stdout",
     "output_type": "stream",
     "text": [
      "NVIDIA :  KurtosistestResult(statistic=20.911553349618195, pvalue=4.2032383136323974e-97)\n"
     ]
    }
   ],
   "source": [
    "print('NVIDIA : ', stats.kurtosistest(ndva_percent_change[1:]))"
   ]
  },
  {
   "cell_type": "markdown",
   "metadata": {},
   "source": [
    "--Since the Z value is 20.911 which is higher than 1.96, it leads us to conclude that we're not seeing Kurtosis from a normal distribution"
   ]
  },
  {
   "cell_type": "markdown",
   "metadata": {},
   "source": [
    "--since the pvalue is <0.05, we reject the null hypothesis, that is, the kurtosis is not from a normal distribution\n",
    "--There is a very low probability (<0.05) that we're seeing these results from a random chance."
   ]
  }
 ],
 "metadata": {
  "kernelspec": {
   "display_name": "Python 3",
   "language": "python",
   "name": "python3"
  },
  "language_info": {
   "codemirror_mode": {
    "name": "ipython",
    "version": 3
   },
   "file_extension": ".py",
   "mimetype": "text/x-python",
   "name": "python",
   "nbconvert_exporter": "python",
   "pygments_lexer": "ipython3",
   "version": "3.7.3"
  }
 },
 "nbformat": 4,
 "nbformat_minor": 2
}
